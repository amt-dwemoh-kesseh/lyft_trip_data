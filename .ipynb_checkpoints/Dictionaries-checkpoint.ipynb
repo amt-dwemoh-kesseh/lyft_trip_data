{
 "cells": [
  {
   "cell_type": "code",
   "execution_count": 1,
   "id": "8c47bf88",
   "metadata": {},
   "outputs": [
    {
     "data": {
      "text/plain": [
       "{'k1': ' cat', 'k2': 'bat', 'k3': 'dog', 'k4': 'snake'}"
      ]
     },
     "execution_count": 1,
     "metadata": {},
     "output_type": "execute_result"
    }
   ],
   "source": [
    "dict = {'k1':\" cat\",'k2': \"bat\", 'k3': \"dog\",'k4': \"snake\"}\n",
    "dict"
   ]
  },
  {
   "cell_type": "code",
   "execution_count": 2,
   "id": "ceda74f7",
   "metadata": {},
   "outputs": [
    {
     "data": {
      "text/plain": [
       "' cat'"
      ]
     },
     "execution_count": 2,
     "metadata": {},
     "output_type": "execute_result"
    }
   ],
   "source": [
    "dict['k1']"
   ]
  },
  {
   "cell_type": "code",
   "execution_count": 3,
   "id": "632f7a45",
   "metadata": {},
   "outputs": [
    {
     "data": {
      "text/plain": [
       "{'k1': ' cat', 'k2': 'bat', 'k3': 'dog', 'k4': 'snake', 'k5': ' Monkey'}"
      ]
     },
     "execution_count": 3,
     "metadata": {},
     "output_type": "execute_result"
    }
   ],
   "source": [
    "dict['k5'] = \" Monkey\"\n",
    "dict"
   ]
  },
  {
   "cell_type": "code",
   "execution_count": 4,
   "id": "f0c9ea83",
   "metadata": {},
   "outputs": [
    {
     "data": {
      "text/plain": [
       "{'dept1': ' Michael', 'dept2': ['Jennifer', 'Samuel', 'Greene']}"
      ]
     },
     "execution_count": 4,
     "metadata": {},
     "output_type": "execute_result"
    }
   ],
   "source": [
    "dept_workers = {'dept1': \" Michael\", 'dept2':['Jennifer','Samuel','Greene']}\n",
    "dept_workers"
   ]
  },
  {
   "cell_type": "code",
   "execution_count": 5,
   "id": "0ee2c6c3",
   "metadata": {},
   "outputs": [
    {
     "data": {
      "text/plain": [
       "['Jennifer', 'Samuel', 'Greene']"
      ]
     },
     "execution_count": 5,
     "metadata": {},
     "output_type": "execute_result"
    }
   ],
   "source": [
    "dept_workers['dept2']"
   ]
  },
  {
   "cell_type": "code",
   "execution_count": 14,
   "id": "5b4968ee",
   "metadata": {},
   "outputs": [
    {
     "data": {
      "text/plain": [
       "'Samuel'"
      ]
     },
     "execution_count": 14,
     "metadata": {},
     "output_type": "execute_result"
    }
   ],
   "source": [
    "dept_workers['dept2'][1]"
   ]
  },
  {
   "cell_type": "code",
   "execution_count": 15,
   "id": "fd10c4fa",
   "metadata": {},
   "outputs": [
    {
     "data": {
      "text/plain": [
       "{'p1': 'Kuffuor', 'p2': 'Partey', 'p3': 'Gyan', 'p4': 'Boye', 'p5': 'Nelson'}"
      ]
     },
     "execution_count": 15,
     "metadata": {},
     "output_type": "execute_result"
    }
   ],
   "source": [
    "Team ={}\n",
    "Team['p1'] = \"Kuffuor\"\n",
    "Team['p2'] = \"Partey\"\n",
    "Team['p3'] = \"Gyan\"\n",
    "Team['p4'] = \"Boye\"\n",
    "Team['p5'] = \"Nelson\"\n",
    "Team"
   ]
  },
  {
   "cell_type": "code",
   "execution_count": 16,
   "id": "4a5bdccd",
   "metadata": {},
   "outputs": [
    {
     "name": "stdout",
     "output_type": "stream",
     "text": [
      "{'p1': 'Kuffuor', 'p2': 'Partey', 'p3': 'Gyan', 'p4': 'Boye', 'p5': 'Nelson'}\n"
     ]
    }
   ],
   "source": [
    "print(Team)"
   ]
  },
  {
   "cell_type": "code",
   "execution_count": 17,
   "id": "71b3829e",
   "metadata": {},
   "outputs": [
    {
     "name": "stdout",
     "output_type": "stream",
     "text": [
      "Boye\n"
     ]
    }
   ],
   "source": [
    "print(Team['p4'])"
   ]
  },
  {
   "cell_type": "code",
   "execution_count": 19,
   "id": "969753e8",
   "metadata": {},
   "outputs": [
    {
     "data": {
      "text/plain": [
       "'Gyan'"
      ]
     },
     "execution_count": 19,
     "metadata": {},
     "output_type": "execute_result"
    }
   ],
   "source": [
    "Team.get('p3')"
   ]
  },
  {
   "cell_type": "code",
   "execution_count": 20,
   "id": "68c0bf62",
   "metadata": {},
   "outputs": [
    {
     "data": {
      "text/plain": [
       "'Gyan'"
      ]
     },
     "execution_count": 20,
     "metadata": {},
     "output_type": "execute_result"
    }
   ],
   "source": [
    "Team['p3']"
   ]
  },
  {
   "cell_type": "code",
   "execution_count": 22,
   "id": "31b41eae",
   "metadata": {},
   "outputs": [
    {
     "name": "stdout",
     "output_type": "stream",
     "text": [
      "None\n"
     ]
    }
   ],
   "source": [
    "print(Team.get('p6'))"
   ]
  },
  {
   "cell_type": "code",
   "execution_count": null,
   "id": "286610fd",
   "metadata": {},
   "outputs": [],
   "source": []
  }
 ],
 "metadata": {
  "kernelspec": {
   "display_name": "Python 3",
   "language": "python",
   "name": "python3"
  },
  "language_info": {
   "codemirror_mode": {
    "name": "ipython",
    "version": 3
   },
   "file_extension": ".py",
   "mimetype": "text/x-python",
   "name": "python",
   "nbconvert_exporter": "python",
   "pygments_lexer": "ipython3",
   "version": "3.8.8"
  }
 },
 "nbformat": 4,
 "nbformat_minor": 5
}
