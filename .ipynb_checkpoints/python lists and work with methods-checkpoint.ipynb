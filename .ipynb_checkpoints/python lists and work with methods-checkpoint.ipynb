{
 "cells": [
  {
   "cell_type": "code",
   "execution_count": 1,
   "id": "fc7fe3c6",
   "metadata": {},
   "outputs": [
    {
     "data": {
      "text/plain": [
       "['John', 'Leila', 'Emma', 'Duku']"
      ]
     },
     "execution_count": 1,
     "metadata": {},
     "output_type": "execute_result"
    }
   ],
   "source": [
    "Participants = ['John','Leila','Emma','Duku']\n",
    "Participants"
   ]
  },
  {
   "cell_type": "code",
   "execution_count": 2,
   "id": "ca6526cd",
   "metadata": {},
   "outputs": [
    {
     "name": "stdout",
     "output_type": "stream",
     "text": [
      "Leila\n"
     ]
    }
   ],
   "source": [
    "print (Participants[1])"
   ]
  },
  {
   "cell_type": "code",
   "execution_count": 3,
   "id": "d587f8fb",
   "metadata": {},
   "outputs": [
    {
     "data": {
      "text/plain": [
       "'Emma'"
      ]
     },
     "execution_count": 3,
     "metadata": {},
     "output_type": "execute_result"
    }
   ],
   "source": [
    "Participants[-2]"
   ]
  },
  {
   "cell_type": "code",
   "execution_count": 5,
   "id": "8932c161",
   "metadata": {},
   "outputs": [
    {
     "data": {
      "text/plain": [
       "['John', 'Leila', 'Emma', 'Lovia']"
      ]
     },
     "execution_count": 5,
     "metadata": {},
     "output_type": "execute_result"
    }
   ],
   "source": [
    "Participants[3]='Lovia'\n",
    "Participants"
   ]
  },
  {
   "cell_type": "code",
   "execution_count": 6,
   "id": "04c8cef2",
   "metadata": {},
   "outputs": [
    {
     "data": {
      "text/plain": [
       "['John', 'Leila', 'Emma']"
      ]
     },
     "execution_count": 6,
     "metadata": {},
     "output_type": "execute_result"
    }
   ],
   "source": [
    "del Participants[3]\n",
    "Participants"
   ]
  },
  {
   "cell_type": "code",
   "execution_count": 7,
   "id": "3241d2e7",
   "metadata": {},
   "outputs": [
    {
     "data": {
      "text/plain": [
       "'Emma'"
      ]
     },
     "execution_count": 7,
     "metadata": {},
     "output_type": "execute_result"
    }
   ],
   "source": [
    "Participants[2]"
   ]
  },
  {
   "cell_type": "code",
   "execution_count": 8,
   "id": "815e5dde",
   "metadata": {},
   "outputs": [
    {
     "data": {
      "text/plain": [
       "['John', 'Leila', 'Emma', 'George']"
      ]
     },
     "execution_count": 8,
     "metadata": {},
     "output_type": "execute_result"
    }
   ],
   "source": [
    "Participants.append('George')\n",
    "Participants"
   ]
  },
  {
   "cell_type": "code",
   "execution_count": 9,
   "id": "4e384585",
   "metadata": {},
   "outputs": [
    {
     "data": {
      "text/plain": [
       "['John', 'Leila', 'Emma', 'George', 'Kojo', 'Moses']"
      ]
     },
     "execution_count": 9,
     "metadata": {},
     "output_type": "execute_result"
    }
   ],
   "source": [
    "Participants.extend(['Kojo', 'Moses'])\n",
    "Participants"
   ]
  },
  {
   "cell_type": "code",
   "execution_count": 10,
   "id": "a4b02006",
   "metadata": {},
   "outputs": [
    {
     "data": {
      "text/plain": [
       "['John', 'Leila', 'Emma', 'George', 'Moses']"
      ]
     },
     "execution_count": 10,
     "metadata": {},
     "output_type": "execute_result"
    }
   ],
   "source": [
    "del Participants[-2]\n",
    "Participants"
   ]
  },
  {
   "cell_type": "code",
   "execution_count": 13,
   "id": "5ceee38f",
   "metadata": {},
   "outputs": [
    {
     "name": "stdout",
     "output_type": "stream",
     "text": [
      "The first participant is John.\n"
     ]
    }
   ],
   "source": [
    "print('The first participant is ' + Participants[0] + '.')"
   ]
  },
  {
   "cell_type": "code",
   "execution_count": 14,
   "id": "0b2c4258",
   "metadata": {},
   "outputs": [
    {
     "data": {
      "text/plain": [
       "5"
      ]
     },
     "execution_count": 14,
     "metadata": {},
     "output_type": "execute_result"
    }
   ],
   "source": [
    "len(Participants)"
   ]
  },
  {
   "cell_type": "code",
   "execution_count": 15,
   "id": "8decbead",
   "metadata": {},
   "outputs": [
    {
     "data": {
      "text/plain": [
       "4"
      ]
     },
     "execution_count": 15,
     "metadata": {},
     "output_type": "execute_result"
    }
   ],
   "source": [
    "len(Participants[2])"
   ]
  },
  {
   "cell_type": "code",
   "execution_count": null,
   "id": "addde77e",
   "metadata": {},
   "outputs": [],
   "source": []
  }
 ],
 "metadata": {
  "kernelspec": {
   "display_name": "Python 3",
   "language": "python",
   "name": "python3"
  },
  "language_info": {
   "codemirror_mode": {
    "name": "ipython",
    "version": 3
   },
   "file_extension": ".py",
   "mimetype": "text/x-python",
   "name": "python",
   "nbconvert_exporter": "python",
   "pygments_lexer": "ipython3",
   "version": "3.8.8"
  }
 },
 "nbformat": 4,
 "nbformat_minor": 5
}
