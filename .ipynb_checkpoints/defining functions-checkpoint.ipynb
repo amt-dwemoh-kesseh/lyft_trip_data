{
 "cells": [
  {
   "cell_type": "code",
   "execution_count": 1,
   "id": "40888cf1",
   "metadata": {},
   "outputs": [],
   "source": [
    "def simple():\n",
    "    print(\"my first function\")"
   ]
  },
  {
   "cell_type": "code",
   "execution_count": 2,
   "id": "1d7372ba",
   "metadata": {},
   "outputs": [
    {
     "name": "stdout",
     "output_type": "stream",
     "text": [
      "my first function\n"
     ]
    }
   ],
   "source": [
    "simple()"
   ]
  },
  {
   "cell_type": "code",
   "execution_count": 3,
   "id": "739d1d79",
   "metadata": {},
   "outputs": [],
   "source": [
    "def plus_ten(a):\n",
    "    return a + 10"
   ]
  },
  {
   "cell_type": "code",
   "execution_count": 4,
   "id": "6259fcd1",
   "metadata": {},
   "outputs": [
    {
     "data": {
      "text/plain": [
       "12"
      ]
     },
     "execution_count": 4,
     "metadata": {},
     "output_type": "execute_result"
    }
   ],
   "source": [
    "plus_ten(2)"
   ]
  },
  {
   "cell_type": "code",
   "execution_count": 5,
   "id": "083bea96",
   "metadata": {},
   "outputs": [
    {
     "data": {
      "text/plain": [
       "14"
      ]
     },
     "execution_count": 5,
     "metadata": {},
     "output_type": "execute_result"
    }
   ],
   "source": [
    "plus_ten(4)"
   ]
  },
  {
   "cell_type": "code",
   "execution_count": 10,
   "id": "0f4d4203",
   "metadata": {},
   "outputs": [],
   "source": [
    "def plus_ten(a):\n",
    "    result = a + 10\n",
    "    print(\"Outcome\")\n",
    "    return result\n",
    "    "
   ]
  },
  {
   "cell_type": "code",
   "execution_count": 12,
   "id": "b3b1a945",
   "metadata": {},
   "outputs": [
    {
     "data": {
      "text/plain": [
       "12"
      ]
     },
     "execution_count": 12,
     "metadata": {},
     "output_type": "execute_result"
    }
   ],
   "source": [
    "plus_ten(2)"
   ]
  },
  {
   "cell_type": "code",
   "execution_count": 17,
   "id": "0bb28559",
   "metadata": {},
   "outputs": [],
   "source": [
    "def wage(w_hours):\n",
    "    return w_hours * 25\n",
    "\n",
    "def with_bonus(w_hours):\n",
    "    return wage(w_hours) + 50"
   ]
  },
  {
   "cell_type": "code",
   "execution_count": 18,
   "id": "ff216c28",
   "metadata": {},
   "outputs": [
    {
     "data": {
      "text/plain": [
       "(200, 250)"
      ]
     },
     "execution_count": 18,
     "metadata": {},
     "output_type": "execute_result"
    }
   ],
   "source": [
    "wage(8), with_bonus(8)"
   ]
  },
  {
   "cell_type": "code",
   "execution_count": 19,
   "id": "009761ee",
   "metadata": {},
   "outputs": [],
   "source": [
    "def my_bet(odds):\n",
    "    return odds * 5\n",
    "\n",
    "def special_bet(odds):\n",
    "    return my_bet(odds) + 10"
   ]
  },
  {
   "cell_type": "code",
   "execution_count": 20,
   "id": "b0cf6ef1",
   "metadata": {},
   "outputs": [
    {
     "data": {
      "text/plain": [
       "(17.5, 27.5)"
      ]
     },
     "execution_count": 20,
     "metadata": {},
     "output_type": "execute_result"
    }
   ],
   "source": [
    "my_bet(3.5),special_bet(3.5)"
   ]
  },
  {
   "cell_type": "code",
   "execution_count": 21,
   "id": "4e1bc1a5",
   "metadata": {},
   "outputs": [],
   "source": [
    "# write a code for a situation where if johny is able to save \n",
    "#dollars he will be given additional $10\n",
    "\n",
    "def add_ten(m):#let m be amount saved\n",
    "    if m >= 100:\n",
    "        m = m + 10\n",
    "        return m\n",
    "    else:\n",
    "        return \"save more Johnny\""
   ]
  },
  {
   "cell_type": "code",
   "execution_count": 22,
   "id": "e22e0f3f",
   "metadata": {},
   "outputs": [
    {
     "data": {
      "text/plain": [
       "'save more Johnny'"
      ]
     },
     "execution_count": 22,
     "metadata": {},
     "output_type": "execute_result"
    }
   ],
   "source": [
    "add_ten(90)"
   ]
  },
  {
   "cell_type": "code",
   "execution_count": 23,
   "id": "35914dec",
   "metadata": {},
   "outputs": [
    {
     "data": {
      "text/plain": [
       "120"
      ]
     },
     "execution_count": 23,
     "metadata": {},
     "output_type": "execute_result"
    }
   ],
   "source": [
    "add_ten(110)"
   ]
  },
  {
   "cell_type": "code",
   "execution_count": 36,
   "id": "fae33d48",
   "metadata": {},
   "outputs": [],
   "source": [
    "# defining many parameters\n",
    "#def function_name (a,b,c)\n",
    "\n",
    "def sub_number(a,b,c):\n",
    "    full = a + b * c \n",
    "    print('parameter a equals', a)\n",
    "    print('parameter b equals', b)\n",
    "    print('parameter c equals', c)\n",
    "    return full"
   ]
  },
  {
   "cell_type": "code",
   "execution_count": 37,
   "id": "2bce1e00",
   "metadata": {},
   "outputs": [
    {
     "name": "stdout",
     "output_type": "stream",
     "text": [
      "parameter a equals 10\n",
      "parameter b equals 40\n",
      "parameter c equals 12\n"
     ]
    },
    {
     "data": {
      "text/plain": [
       "490"
      ]
     },
     "execution_count": 37,
     "metadata": {},
     "output_type": "execute_result"
    }
   ],
   "source": [
    "sub_number(10,40,12)"
   ]
  },
  {
   "cell_type": "code",
   "execution_count": null,
   "id": "7cf13a84",
   "metadata": {},
   "outputs": [],
   "source": []
  }
 ],
 "metadata": {
  "kernelspec": {
   "display_name": "Python 3",
   "language": "python",
   "name": "python3"
  },
  "language_info": {
   "codemirror_mode": {
    "name": "ipython",
    "version": 3
   },
   "file_extension": ".py",
   "mimetype": "text/x-python",
   "name": "python",
   "nbconvert_exporter": "python",
   "pygments_lexer": "ipython3",
   "version": "3.8.8"
  }
 },
 "nbformat": 4,
 "nbformat_minor": 5
}
