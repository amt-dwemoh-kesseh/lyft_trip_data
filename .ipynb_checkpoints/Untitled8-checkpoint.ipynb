{
 "cells": [
  {
   "cell_type": "code",
   "execution_count": 2,
   "id": "8b1a1551",
   "metadata": {},
   "outputs": [
    {
     "name": "stdout",
     "output_type": "stream",
     "text": [
      "y\n"
     ]
    }
   ],
   "source": [
    "print('Holidays!'[6])"
   ]
  },
  {
   "cell_type": "code",
   "execution_count": 3,
   "id": "1ef98011",
   "metadata": {},
   "outputs": [
    {
     "name": "stdout",
     "output_type": "stream",
     "text": [
      "amen\n"
     ]
    }
   ],
   "source": [
    "print('amen')"
   ]
  },
  {
   "cell_type": "code",
   "execution_count": 4,
   "id": "e2bb9d6b",
   "metadata": {},
   "outputs": [
    {
     "data": {
      "text/plain": [
       "'amen'"
      ]
     },
     "execution_count": 4,
     "metadata": {},
     "output_type": "execute_result"
    }
   ],
   "source": [
    "'amen'"
   ]
  },
  {
   "cell_type": "code",
   "execution_count": 5,
   "id": "9deb8c78",
   "metadata": {},
   "outputs": [
    {
     "data": {
      "text/plain": [
       "'Amen'"
      ]
     },
     "execution_count": 5,
     "metadata": {},
     "output_type": "execute_result"
    }
   ],
   "source": [
    "\"Amen\""
   ]
  },
  {
   "cell_type": "code",
   "execution_count": null,
   "id": "5c8d2371",
   "metadata": {},
   "outputs": [],
   "source": []
  }
 ],
 "metadata": {
  "kernelspec": {
   "display_name": "Python 3",
   "language": "python",
   "name": "python3"
  },
  "language_info": {
   "codemirror_mode": {
    "name": "ipython",
    "version": 3
   },
   "file_extension": ".py",
   "mimetype": "text/x-python",
   "name": "python",
   "nbconvert_exporter": "python",
   "pygments_lexer": "ipython3",
   "version": "3.8.8"
  }
 },
 "nbformat": 4,
 "nbformat_minor": 5
}
