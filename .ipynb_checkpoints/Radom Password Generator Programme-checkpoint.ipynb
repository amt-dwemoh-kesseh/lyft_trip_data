{
 "cells": [
  {
   "cell_type": "code",
   "execution_count": 3,
   "id": "67a48378",
   "metadata": {},
   "outputs": [
    {
     "name": "stdout",
     "output_type": "stream",
     "text": [
      "Enter Length of password10\n",
      "p(qE7!^rS#\n"
     ]
    }
   ],
   "source": [
    "#Random password Geerator\n",
    "import string\n",
    "import random\n",
    "len = int(input(\"Enter Length of password\"))\n",
    "lower = string.ascii_lowercase\n",
    "upper = string.ascii_uppercase\n",
    "digit = string.digits\n",
    "symbols = string.punctuation\n",
    "\n",
    "str = lower + upper + digit + symbols\n",
    "pwd = random.sample(str,len)\n",
    "password = \"\".join(pwd)\n",
    "print(password)\n"
   ]
  },
  {
   "cell_type": "code",
   "execution_count": 6,
   "id": "c8261c30",
   "metadata": {},
   "outputs": [
    {
     "name": "stdout",
     "output_type": "stream",
     "text": [
      "Enter length of password8\n",
      "Enter No. of Lowercase characters2\n",
      "Enter No. of Uppercase characters2\n",
      "Enter No. of digit characters2\n",
      "Enter No. of symbol characters2\n",
      "password is: $1=j\\fq2~i\n"
     ]
    }
   ],
   "source": [
    "import string\n",
    "import random\n",
    "\n",
    "len = int(input(\"Enter length of password\"))\n",
    "\n",
    "lower_len = int(input(\"Enter No. of Lowercase characters\"))\n",
    "upper_len = int(input(\"Enter No. of Uppercase characters\"))\n",
    "digit_len = int(input(\"Enter No. of digit characters\"))\n",
    "symbol_len = int(input(\"Enter No. of symbol characters\"))\n",
    "\n",
    "pwd_len = lower_len + upper_len + digit_len + symbol_len\n",
    "\n",
    "lower = string.ascii_lowercase\n",
    "upper = string.ascii_lowercase\n",
    "digit = string.digits\n",
    "symbol = string.punctuation\n",
    "random.shuffle(str)\n",
    "password = \"\".join(str)\n",
    "str = random.choices(lower, k= lower_len)+random.choices(upper,k=upper_len)+random.choices(digit,k=digit_len)+random.choices(symbol,k=symbol_len)\n",
    "print(\"password is:\",password)"
   ]
  },
  {
   "cell_type": "code",
   "execution_count": null,
   "id": "2ba6a300",
   "metadata": {},
   "outputs": [],
   "source": []
  }
 ],
 "metadata": {
  "kernelspec": {
   "display_name": "Python 3",
   "language": "python",
   "name": "python3"
  },
  "language_info": {
   "codemirror_mode": {
    "name": "ipython",
    "version": 3
   },
   "file_extension": ".py",
   "mimetype": "text/x-python",
   "name": "python",
   "nbconvert_exporter": "python",
   "pygments_lexer": "ipython3",
   "version": "3.8.8"
  }
 },
 "nbformat": 4,
 "nbformat_minor": 5
}
