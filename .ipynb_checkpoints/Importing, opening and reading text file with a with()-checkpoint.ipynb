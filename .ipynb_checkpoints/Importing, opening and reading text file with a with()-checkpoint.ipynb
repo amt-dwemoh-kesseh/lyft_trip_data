{
 "cells": [
  {
   "cell_type": "code",
   "execution_count": 11,
   "id": "e5991162",
   "metadata": {},
   "outputs": [],
   "source": [
    "filename= 'C:/Users/User/Desktop/Data Analysis/S10 - Working with Text Files/L9/source.txt'"
   ]
  },
  {
   "cell_type": "code",
   "execution_count": 14,
   "id": "ebc53184",
   "metadata": {},
   "outputs": [],
   "source": [
    "file=open(filename, mode = 'r')\n",
    "text= file.read()\n",
    "file.close()"
   ]
  },
  {
   "cell_type": "code",
   "execution_count": 15,
   "id": "b6a59f79",
   "metadata": {},
   "outputs": [],
   "source": [
    "with open(filename, mode ='r')as out_file:\n",
    "    out_file.read # this code closes the file automatically"
   ]
  },
  {
   "cell_type": "code",
   "execution_count": 16,
   "id": "54553eb0",
   "metadata": {},
   "outputs": [
    {
     "name": "stdout",
     "output_type": "stream",
     "text": [
      "This is the simplest plain text file!\n",
      "\n"
     ]
    }
   ],
   "source": [
    "print(text)"
   ]
  },
  {
   "cell_type": "code",
   "execution_count": 17,
   "id": "9ccc1957",
   "metadata": {},
   "outputs": [
    {
     "name": "stdout",
     "output_type": "stream",
     "text": [
      "<_io.TextIOWrapper name='C:/Users/User/Desktop/Data Analysis/S10 - Working with Text Files/L9/source.txt' mode='r' encoding='cp1252'>\n"
     ]
    }
   ],
   "source": [
    "print(out_file)"
   ]
  },
  {
   "cell_type": "code",
   "execution_count": 18,
   "id": "c2321e92",
   "metadata": {},
   "outputs": [],
   "source": [
    "with open('C:/Users/User/Desktop/Data Analysis/S10 - Working with Text Files/L9/source.txt','w') as out_file:\n",
    "    out_file.write(\"It is not simple like that\")"
   ]
  },
  {
   "cell_type": "code",
   "execution_count": 21,
   "id": "ce905306",
   "metadata": {},
   "outputs": [
    {
     "data": {
      "text/plain": [
       "'It is not simple like that'"
      ]
     },
     "execution_count": 21,
     "metadata": {},
     "output_type": "execute_result"
    }
   ],
   "source": [
    "file =open(filename ,mode ='r')\n",
    "text= file.read()\n",
    "text"
   ]
  },
  {
   "cell_type": "code",
   "execution_count": 22,
   "id": "4dd6ed10",
   "metadata": {},
   "outputs": [
    {
     "name": "stdout",
     "output_type": "stream",
     "text": [
      "It is not simple like that\n"
     ]
    }
   ],
   "source": [
    "print(text)"
   ]
  },
  {
   "cell_type": "code",
   "execution_count": 24,
   "id": "fc554a53",
   "metadata": {},
   "outputs": [
    {
     "name": "stdout",
     "output_type": "stream",
     "text": [
      "It is not simple like that\n"
     ]
    }
   ],
   "source": [
    "with open(filename, mode= 'r')as out_file:\n",
    "    new_text =out_file.read()\n",
    "print(new_text)"
   ]
  },
  {
   "cell_type": "code",
   "execution_count": null,
   "id": "9ebb0349",
   "metadata": {},
   "outputs": [],
   "source": []
  }
 ],
 "metadata": {
  "kernelspec": {
   "display_name": "Python 3",
   "language": "python",
   "name": "python3"
  },
  "language_info": {
   "codemirror_mode": {
    "name": "ipython",
    "version": 3
   },
   "file_extension": ".py",
   "mimetype": "text/x-python",
   "name": "python",
   "nbconvert_exporter": "python",
   "pygments_lexer": "ipython3",
   "version": "3.8.8"
  }
 },
 "nbformat": 4,
 "nbformat_minor": 5
}
